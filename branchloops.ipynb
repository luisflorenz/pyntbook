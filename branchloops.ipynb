{
 "cells": [
  {
   "attachments": {},
   "cell_type": "markdown",
   "metadata": {},
   "source": [
    "            Branching using Conditional Statements and Loops in Python\n",
    ".Branching with if, else and elif\n",
    ".Nested conditions and if expressions\n",
    ".Iteration with while loops\n",
    ".Iterating over containers with for loops\n",
    ".Nested loops, break and continue statements             "
   ]
  },
  {
   "attachments": {},
   "cell_type": "markdown",
   "metadata": {},
   "source": [
    "Branching with if, else and elif¶\n",
    "One of the most powerful features of programming languages is branching: the ability to make decisions and execute a different set of statements based on whether one or more conditions are true.\n",
    "The if statement\n",
    "In Python, branching is implemented using the if statement, which is written as follows:\n",
    "\n",
    "if condition:\n",
    "    statement1\n",
    "    statement2\n",
    "The condition can be a value, variable or expression. If the condition evaluates to True, then the statements within the if block are executed. Notice the four spaces before statement1, statement2, etc. The spaces inform Python that these statements are associated with the if statement above. This technique of structuring code by adding spaces is called indentation.\n",
    "\n"
   ]
  },
  {
   "attachments": {},
   "cell_type": "markdown",
   "metadata": {},
   "source": [
    "For example, let's write some code to check and print a message if a given number is even."
   ]
  },
  {
   "cell_type": "code",
   "execution_count": 40,
   "metadata": {},
   "outputs": [],
   "source": [
    "a_number = 34\n"
   ]
  },
  {
   "cell_type": "code",
   "execution_count": 66,
   "metadata": {},
   "outputs": [
    {
     "name": "stdout",
     "output_type": "stream",
     "text": [
      "We're are inside an if block\n",
      "the given number 34 is even.\n"
     ]
    }
   ],
   "source": [
    "if a_number % 2 == 0:\n",
    "    print(\"We're are inside an if block\")\n",
    "    print('the given number {} is even.' .format(a_number))"
   ]
  },
  {
   "cell_type": "code",
   "execution_count": 42,
   "metadata": {},
   "outputs": [
    {
     "name": "stdout",
     "output_type": "stream",
     "text": [
      "the 34 is in the range \n"
     ]
    }
   ],
   "source": [
    "if a_number < 50:\n",
    "    print('the {} is in the range '.format(a_number))"
   ]
  },
  {
   "cell_type": "code",
   "execution_count": 43,
   "metadata": {},
   "outputs": [
    {
     "name": "stdout",
     "output_type": "stream",
     "text": [
      "the values of 34 is the result of the sum of 26+8\n"
     ]
    }
   ],
   "source": [
    "if a_number == 26+8:\n",
    "    print('the values of {} is the result of the sum of 26+8'. format(a_number))"
   ]
  },
  {
   "attachments": {},
   "cell_type": "markdown",
   "metadata": {},
   "source": [
    "The else statement\n",
    "We may want to print a different message if the number is not even in the above example. This can be done by adding the else statement. It is written as follows:\n",
    "\n",
    "if condition:\n",
    "    statement1\n",
    "    statement2\n",
    "else:\n",
    "    statement4\n",
    "    statement5\n",
    "If condition evaluates to True, the statements in the if block are executed. If it evaluates to False, the statements in the else block are executed."
   ]
  },
  {
   "cell_type": "code",
   "execution_count": 44,
   "metadata": {},
   "outputs": [
    {
     "name": "stdout",
     "output_type": "stream",
     "text": [
      "the given number 34 is even\n"
     ]
    }
   ],
   "source": [
    "if a_number %2 == 0:\n",
    "    print('the given number {} is even'. format(a_number))\n",
    "else:\n",
    "    print('the given number {} is odd' . format(a_number))    "
   ]
  },
  {
   "cell_type": "code",
   "execution_count": 45,
   "metadata": {},
   "outputs": [
    {
     "name": "stdout",
     "output_type": "stream",
     "text": [
      "the given number 34 is odd\n"
     ]
    }
   ],
   "source": [
    "if a_number %5 ==0 :\n",
    "    print('the given number {} is even'. format(a_number))\n",
    "else:\n",
    "    print('the given number {} is odd' . format(a_number))"
   ]
  },
  {
   "cell_type": "code",
   "execution_count": 46,
   "metadata": {},
   "outputs": [],
   "source": [
    "lucky_number = 36"
   ]
  },
  {
   "cell_type": "code",
   "execution_count": 47,
   "metadata": {},
   "outputs": [
    {
     "name": "stdout",
     "output_type": "stream",
     "text": [
      "the the number 36 is great\n"
     ]
    }
   ],
   "source": [
    "if lucky_number % 2 == 0:\n",
    "    print('the the number {} is great' .format(lucky_number))\n",
    "else:\n",
    "    print('this is not a rest of 2')    "
   ]
  },
  {
   "cell_type": "code",
   "execution_count": 48,
   "metadata": {},
   "outputs": [],
   "source": [
    "dominican_flag_color = ('red', 'blue', 'white')\n"
   ]
  },
  {
   "cell_type": "code",
   "execution_count": 49,
   "metadata": {},
   "outputs": [],
   "source": [
    "color_candidate = ('yellow')\n"
   ]
  },
  {
   "cell_type": "code",
   "execution_count": 50,
   "metadata": {},
   "outputs": [
    {
     "name": "stdout",
     "output_type": "stream",
     "text": [
      "the color yellow is not in thye domican flag\n"
     ]
    }
   ],
   "source": [
    "if color_candidate in dominican_flag_color:\n",
    "    print('the color {} is in the dominican flag'. format(color_candidate))\n",
    "else:\n",
    "    print('the color {} is not in thye domican flag'. format(color_candidate))    "
   ]
  },
  {
   "attachments": {},
   "cell_type": "markdown",
   "metadata": {},
   "source": [
    "The elif statement\n",
    "Python also provides an elif statement (short for \"else if\") to chain a series of conditional blocks. The conditions are evaluated one by one. For the first condition that evaluates to True, the block of statements below it is executed. The remaining conditions and statements are not evaluated. So, in an if, elif, elif... chain, at most one block of statements is executed, the one corresponding to the first condition that evaluates to True."
   ]
  },
  {
   "cell_type": "code",
   "execution_count": 51,
   "metadata": {},
   "outputs": [],
   "source": [
    "today = 'monday'"
   ]
  },
  {
   "cell_type": "code",
   "execution_count": 52,
   "metadata": {},
   "outputs": [
    {
     "name": "stdout",
     "output_type": "stream",
     "text": [
      "today is the stat of the week\n"
     ]
    }
   ],
   "source": [
    "if today =='sunday':\n",
    "    print('today is a great day')\n",
    "elif today == 'tuesday':\n",
    "    print('today is a bussy day')\n",
    "elif today == 'monday':\n",
    "    print('today is the stat of the week')   \n",
    "elif today == 'thurday':\n",
    "    print('today is a ok day')         "
   ]
  },
  {
   "cell_type": "code",
   "execution_count": 53,
   "metadata": {},
   "outputs": [],
   "source": [
    "great_number = 19"
   ]
  },
  {
   "cell_type": "code",
   "execution_count": 54,
   "metadata": {},
   "outputs": [
    {
     "name": "stdout",
     "output_type": "stream",
     "text": [
      "the number 19 is not dividible by anyting of the options\n"
     ]
    }
   ],
   "source": [
    "if great_number % 2 ==0:\n",
    "    print('the number {} is divisible by 2' .format(great_number))\n",
    "elif great_number % 3 == 0:\n",
    "    print('the number {} is divisible by 3' .format(great_number))\n",
    "elif great_number % 5 == 0:\n",
    "    print('the number {} is divisible by 5' . format(great_number))\n",
    "\n",
    "else:\n",
    "    print('the number {} is not dividible by anyting of the options' .format(great_number))            "
   ]
  },
  {
   "attachments": {},
   "cell_type": "markdown",
   "metadata": {},
   "source": [
    "Conditions can also be combined using the logical operators and, or and not.\n",
    "Combining conditions with logical operators\n",
    "The logical operators and, or and not operate upon conditions and True & False values (also known as booleans). and and or operate on two conditions, whereas not operates on a single condition.\n",
    "\n",
    "The and operator returns True when both the conditions evalute to True. Otherwise it returns False.\n",
    "\n",
    "a\tb\ta and b\n",
    "True\tTrue\tTrue\n",
    "True\tFalse\tFalse\n",
    "False\tTrue\tFalse\n",
    "False\tFalse\tFalse"
   ]
  },
  {
   "cell_type": "code",
   "execution_count": 55,
   "metadata": {},
   "outputs": [],
   "source": [
    "b_number = 12"
   ]
  },
  {
   "cell_type": "code",
   "execution_count": 56,
   "metadata": {},
   "outputs": [
    {
     "name": "stdout",
     "output_type": "stream",
     "text": [
      "the number 12 is not divisible by 5\n"
     ]
    }
   ],
   "source": [
    "if b_number %3  == 0 and  b_number %5 == 0:\n",
    "    print('the number {} is divisible by 3 and 5' . format(b_number))\n",
    "elif not b_number % 5 == 0:\n",
    "    print('the number {} is not divisible by 5' .format(b_number))     "
   ]
  },
  {
   "cell_type": "code",
   "execution_count": 57,
   "metadata": {},
   "outputs": [
    {
     "name": "stdout",
     "output_type": "stream",
     "text": [
      "the number 12 is divisible by 2 and 4\n"
     ]
    }
   ],
   "source": [
    "if b_number % 2 == 0 and b_number % 4 == 0:\n",
    "    print('the number {} is divisible by 2 and 4' .format(b_number))\n",
    "elif not b_number % 2 == 0 or b_number % 4 == 0:\n",
    "    print('the number {} is nor divisible by 2 and 4'.format(b_number))           \n"
   ]
  },
  {
   "attachments": {},
   "cell_type": "markdown",
   "metadata": {},
   "source": [
    "Non-Boolean Conditions\n",
    "Note that conditions do not necessarily have to be booleans. In fact, a condition can be any value. The value is converted into a boolean automatically using the bool operator. This means that falsy values like 0, '', {}, [], etc. evaluate to False and all other values evaluate to True."
   ]
  },
  {
   "cell_type": "code",
   "execution_count": 58,
   "metadata": {},
   "outputs": [
    {
     "name": "stdout",
     "output_type": "stream",
     "text": [
      "the condition evaluated is false\n"
     ]
    }
   ],
   "source": [
    "if '':\n",
    "    print('the condition evaluated is true')\n",
    "else:\n",
    "    print('the condition evaluated is false')    "
   ]
  },
  {
   "cell_type": "code",
   "execution_count": 59,
   "metadata": {},
   "outputs": [
    {
     "name": "stdout",
     "output_type": "stream",
     "text": [
      "the condition evaluated is true\n"
     ]
    }
   ],
   "source": [
    "if 'Help':\n",
    "    print('the condition evaluated is true')\n",
    "else:\n",
    "    print('the condition evaluated is false')    "
   ]
  },
  {
   "cell_type": "code",
   "execution_count": 60,
   "metadata": {},
   "outputs": [
    {
     "name": "stdout",
     "output_type": "stream",
     "text": [
      "the condition evaluated is true\n"
     ]
    }
   ],
   "source": [
    "if {'a': 34}:\n",
    "    print('the condition evaluated is true')\n",
    "else:\n",
    "    print('the condition evaluated is false')    "
   ]
  },
  {
   "cell_type": "code",
   "execution_count": 61,
   "metadata": {},
   "outputs": [
    {
     "name": "stdout",
     "output_type": "stream",
     "text": [
      "The condition evaluted to False\n"
     ]
    }
   ],
   "source": [
    "if None:\n",
    "    print('The condition evaluted to True')\n",
    "else:\n",
    "    print('The condition evaluted to False')"
   ]
  },
  {
   "attachments": {},
   "cell_type": "markdown",
   "metadata": {},
   "source": [
    "Shorthand if conditional expression¶\n",
    "A frequent use case of the if statement involves testing a condition and setting a variable's value based on the condition."
   ]
  },
  {
   "cell_type": "code",
   "execution_count": 62,
   "metadata": {},
   "outputs": [
    {
     "name": "stdout",
     "output_type": "stream",
     "text": [
      "the number 13 is odd. \n"
     ]
    }
   ],
   "source": [
    "c_number = 13\n",
    "\n",
    "if c_number  % 2 == 0:\n",
    "    parity = 'even'\n",
    "else:\n",
    "    parity = 'odd'\n",
    "print('the number {} is {}. ' .format(c_number, parity))        \n"
   ]
  },
  {
   "cell_type": "code",
   "execution_count": 63,
   "metadata": {},
   "outputs": [
    {
     "name": "stdout",
     "output_type": "stream",
     "text": [
      "the price 54 is is in the range. \n"
     ]
    }
   ],
   "source": [
    "parity_dollar = 54 \n",
    "\n",
    "if parity_dollar == 54: \n",
    "  dollar_price = 'is in the range'\n",
    "else:\n",
    "  dollar_price = 'the price is hight'\n",
    "\n",
    "print('the price {} is {}. '. format(parity_dollar, dollar_price))\n",
    " \n",
    "\n",
    "   \n",
    "\n"
   ]
  },
  {
   "attachments": {},
   "cell_type": "markdown",
   "metadata": {},
   "source": [
    "Python provides a shorter syntax, which allows writing such conditions in a single line of code. It is known as a conditional expression, sometimes also referred to as a ternary operator. It has the following syntax:\n",
    "\n",
    "x = true_value if condition else false_value\n",
    "It has the same behavior as the following if-else block:\n",
    "\n",
    "if condition:\n",
    "    x = true_value\n",
    "else:\n",
    "    x = false_value\n",
    "Let's try it out for the example above."
   ]
  },
  {
   "cell_type": "code",
   "execution_count": 64,
   "metadata": {},
   "outputs": [
    {
     "name": "stdout",
     "output_type": "stream",
     "text": [
      "the number 13 is odd. \n"
     ]
    }
   ],
   "source": [
    "parity = 'even' if c_number %2 == 0 else 'odd'\n",
    "print('the number {} is {}. ' .format(c_number, parity))"
   ]
  },
  {
   "attachments": {},
   "cell_type": "markdown",
   "metadata": {},
   "source": [
    "Statements and Expressions¶\n",
    "The conditional expression highlights an essential distinction between statements and expressions in Python.\n",
    "\n",
    "Statements: A statement is an instruction that can be executed. Every line of code we have written so far is a statement e.g. assigning a variable, calling a function, conditional statements using if, else, and elif, loops using for and while etc.\n",
    "\n",
    "Expressions: An expression is some code that evaluates to a value. Examples include values of different data types, arithmetic expressions, conditions, variables, function calls, conditional expressions, etc.\n",
    "\n",
    "Most expressions can be executed as statements, but not all statements are expressions. For example, the regular if statement is not an expression since it does not evaluate to a value. It merely performs some branching in the code. Similarly, loops and function definitions are not expressions (we'll learn more about these in later sections).\n",
    "\n",
    "As a rule of thumb, an expression is anything that can appear on the right side of the assignment operator =. You can use this as a test for checking whether something is an expression or not. You'll get a syntax error if you try to assign something that is not an expression."
   ]
  },
  {
   "cell_type": "code",
   "execution_count": 65,
   "metadata": {},
   "outputs": [
    {
     "ename": "SyntaxError",
     "evalue": "invalid syntax (26250527.py, line 2)",
     "output_type": "error",
     "traceback": [
      "\u001b[0;36m  Cell \u001b[0;32mIn[65], line 2\u001b[0;36m\u001b[0m\n\u001b[0;31m    result = if a_number % 2 == 0:\u001b[0m\n\u001b[0m             ^\u001b[0m\n\u001b[0;31mSyntaxError\u001b[0m\u001b[0;31m:\u001b[0m invalid syntax\n"
     ]
    }
   ],
   "source": [
    "# if statement\n",
    "result = if a_number % 2 == 0: \n",
    "    'even'\n",
    "else:\n",
    "    'odd'"
   ]
  },
  {
   "attachments": {},
   "cell_type": "markdown",
   "metadata": {},
   "source": [
    "Remember if statements cannot be empty, there must be at least one statement in every if and elif block."
   ]
  },
  {
   "cell_type": "code",
   "execution_count": null,
   "metadata": {},
   "outputs": [],
   "source": [
    "# if expression\n",
    "result = 'even' if a_number % 2 == 0 else 'odd'"
   ]
  },
  {
   "attachments": {},
   "cell_type": "markdown",
   "metadata": {},
   "source": [
    "The pass statement\n",
    "if statements cannot be empty, there must be at least one statement in every if and elif block. You can use the pass statement to do nothing and avoid getting an error."
   ]
  },
  {
   "cell_type": "code",
   "execution_count": null,
   "metadata": {},
   "outputs": [],
   "source": [
    "# lucky_number = 36\n",
    "if lucky_number %3 == 0 :\n",
    "    pass\n",
    "elif lucky_number % 5 == 0:\n",
    "    print('the number {} is divisible by 3 but not by 5')\n"
   ]
  },
  {
   "cell_type": "code",
   "execution_count": null,
   "metadata": {},
   "outputs": [
    {
     "name": "stdout",
     "output_type": "stream",
     "text": [
      "the 36 is divisible by 4\n"
     ]
    }
   ],
   "source": [
    "if lucky_number % 4 == 0:\n",
    "    pass\n",
    "    print('the {} is divisible by 4'.format(lucky_number))\n",
    "elif lucky_number % 5 == 0 :\n",
    "        print('the number {} is divisible by 3 but not by 5'.format(lucky_number))\n",
    "\n",
    "              \n"
   ]
  }
 ],
 "metadata": {
  "kernelspec": {
   "display_name": "Python 3",
   "language": "python",
   "name": "python3"
  },
  "language_info": {
   "codemirror_mode": {
    "name": "ipython",
    "version": 3
   },
   "file_extension": ".py",
   "mimetype": "text/x-python",
   "name": "python",
   "nbconvert_exporter": "python",
   "pygments_lexer": "ipython3",
   "version": "3.9.2"
  },
  "orig_nbformat": 4
 },
 "nbformat": 4,
 "nbformat_minor": 2
}
